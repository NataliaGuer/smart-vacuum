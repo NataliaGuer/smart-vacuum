{
 "cells": [
  {
   "cell_type": "code",
   "execution_count": 1,
   "metadata": {},
   "outputs": [],
   "source": [
    "from utils import generate_grid_with_letters, get_random_letter_grid\n",
    "import time\n",
    "from PIL import ImageDraw, ImageFont, Image"
   ]
  },
  {
   "cell_type": "code",
   "execution_count": 2,
   "metadata": {},
   "outputs": [],
   "source": [
    "n = 6\n",
    "letters = get_random_letter_grid(n=n, letters=['C', 'D', 'V', 'X'], unique_letters=['S', 'F'])\n",
    "img = generate_grid_with_letters(letters=letters)\n",
    "\n",
    "img.save(fp=f'grids/grid-n{n}-{time.time()}.png')"
   ]
  },
  {
   "cell_type": "code",
   "execution_count": 3,
   "metadata": {},
   "outputs": [
    {
     "data": {
      "text/plain": [
       "[['C', 'C', 'C', 'V', 'S', 'X'],\n",
       " ['V', 'X', 'D', 'V', 'C', 'X'],\n",
       " ['F', 'X', 'C', 'X', 'V', 'C'],\n",
       " ['D', 'C', 'X', 'D', 'C', 'D'],\n",
       " ['D', 'C', 'D', 'X', 'C', 'X'],\n",
       " ['C', 'V', 'V', 'C', 'C', 'D']]"
      ]
     },
     "execution_count": 3,
     "metadata": {},
     "output_type": "execute_result"
    }
   ],
   "source": [
    "letters"
   ]
  }
 ],
 "metadata": {
  "kernelspec": {
   "display_name": "Python 3",
   "language": "python",
   "name": "python3"
  },
  "language_info": {
   "codemirror_mode": {
    "name": "ipython",
    "version": 3
   },
   "file_extension": ".py",
   "mimetype": "text/x-python",
   "name": "python",
   "nbconvert_exporter": "python",
   "pygments_lexer": "ipython3",
   "version": "3.12.4"
  }
 },
 "nbformat": 4,
 "nbformat_minor": 2
}
